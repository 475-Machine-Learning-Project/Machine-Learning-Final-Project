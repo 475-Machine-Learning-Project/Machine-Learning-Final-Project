{
  "nbformat": 4,
  "nbformat_minor": 0,
  "metadata": {
    "colab": {
      "name": "BlankMask.ipynb",
      "provenance": [],
      "collapsed_sections": [],
      "authorship_tag": "ABX9TyOllqnME3Osjrdo8GIN5ky+",
      "include_colab_link": true
    },
    "kernelspec": {
      "name": "python3",
      "display_name": "Python 3"
    },
    "language_info": {
      "name": "python"
    }
  },
  "cells": [
    {
      "cell_type": "markdown",
      "metadata": {
        "id": "view-in-github",
        "colab_type": "text"
      },
      "source": [
        "<a href=\"https://colab.research.google.com/github/damianomarsili/temp/blob/main/BlankMask.ipynb\" target=\"_parent\"><img src=\"https://colab.research.google.com/assets/colab-badge.svg\" alt=\"Open In Colab\"/></a>"
      ]
    },
    {
      "cell_type": "code",
      "source": [
        "from google.colab import drive\n",
        "drive.mount('/content/drive')"
      ],
      "metadata": {
        "colab": {
          "base_uri": "https://localhost:8080/"
        },
        "id": "kZ78A78fcbsb",
        "outputId": "a1b33ba3-70d8-4cb5-9a51-a4b409685d18"
      },
      "execution_count": null,
      "outputs": [
        {
          "output_type": "stream",
          "name": "stdout",
          "text": [
            "Mounted at /content/drive\n"
          ]
        }
      ]
    },
    {
      "cell_type": "code",
      "source": [
        "cd drive/MyDrive/ML\\ Project"
      ],
      "metadata": {
        "colab": {
          "base_uri": "https://localhost:8080/"
        },
        "id": "z8juBuIKccXa",
        "outputId": "726b7828-eea5-4f73-dd27-1efb425b6ea8"
      },
      "execution_count": null,
      "outputs": [
        {
          "output_type": "stream",
          "name": "stdout",
          "text": [
            "/content/drive/MyDrive/ML Project\n"
          ]
        }
      ]
    },
    {
      "cell_type": "code",
      "execution_count": null,
      "metadata": {
        "colab": {
          "base_uri": "https://localhost:8080/"
        },
        "id": "XvdvHLxtayKY",
        "outputId": "70fdaa62-977f-43f4-b29f-c7be777c1edf"
      },
      "outputs": [
        {
          "output_type": "execute_result",
          "data": {
            "text/plain": [
              "True"
            ]
          },
          "metadata": {},
          "execution_count": 16
        }
      ],
      "source": [
        "import numpy as np\n",
        "import cv2\n",
        "from google.colab.patches import cv2_imshow\n",
        "\n",
        "mask = np.zeros(shape=[256, 256, 1], dtype=np.uint8)\n",
        "sidelen = int((256 * (0.05 ** 0.5)))\n",
        "start_coord = int(255/2 - (0.5 * sidelen))\n",
        "\n",
        "for i in range(sidelen):\n",
        "  for j in range(sidelen):\n",
        "    mask[start_coord + i, start_coord + j] = 255\n",
        "\n",
        "cv2.imwrite(\"blank_mask.jpg\", mask)"
      ]
    }
  ]
}
